{
 "cells": [
  {
   "cell_type": "code",
   "execution_count": 2,
   "metadata": {},
   "outputs": [
    {
     "name": "stdout",
     "output_type": "stream",
     "text": [
      "[24971]\n"
     ]
    }
   ],
   "source": [
    "import json\n",
    "\n",
    "# JSON 파일 읽기\n",
    "with open('/data/ephemeral/home/dataset/train.json', 'r') as f:\n",
    "    data = json.load(f)\n",
    "\n",
    "# 높이가 0인 바운딩 박스 찾기\n",
    "matching_bbox_ids = [bbox['id'] for bbox in data['annotations'] if bbox['bbox'][-1] == 0]\n",
    "# 너비가 0인 바운딩 박스 찾기\n",
    "matching_bbox_ids = [bbox['id'] for bbox in data['annotations'] if bbox['bbox'][-1] == 0]\n",
    "\n",
    "# 결과 출력\n",
    "print(matching_bbox_ids)"
   ]
  }
 ],
 "metadata": {
  "kernelspec": {
   "display_name": "base",
   "language": "python",
   "name": "python3"
  },
  "language_info": {
   "codemirror_mode": {
    "name": "ipython",
    "version": 3
   },
   "file_extension": ".py",
   "mimetype": "text/x-python",
   "name": "python",
   "nbconvert_exporter": "python",
   "pygments_lexer": "ipython3",
   "version": "3.10.13"
  }
 },
 "nbformat": 4,
 "nbformat_minor": 2
}
